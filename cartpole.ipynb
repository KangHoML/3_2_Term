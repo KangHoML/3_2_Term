{
 "cells": [
  {
   "cell_type": "markdown",
   "metadata": {},
   "source": [
    "# **DQN을 활용한 CartPole**\n",
    "Q_Learning을 딥러닝에 조합한 방법으로 \"상태\"를 입력으로 받아 \"행동\"을 출력하며 이때 출력은 특정한 상태에서 특정한 행동을 선택할 확률을 의미"
   ]
  },
  {
   "cell_type": "code",
   "execution_count": 5,
   "metadata": {},
   "outputs": [],
   "source": [
    "# Tensorflow를 Pytorch로 변환\n",
    "import gym # 강화학습을 위한 라이브러리 (gym 0.26.2)\n",
    "import numpy as np\n",
    "\n",
    "import torch\n",
    "import torch.nn as nn\n",
    "import torchvision.transforms as T\n",
    "\n",
    "from collections import deque\n",
    "from torch.nn import HuberLoss\n",
    "from torch.optim import Adam"
   ]
  },
  {
   "cell_type": "code",
   "execution_count": 6,
   "metadata": {},
   "outputs": [],
   "source": [
    "# Parameter\n",
    "NUM_EPSIODES = 500\n",
    "MAX_STEPS = 200\n",
    "GAMMA = 0.99\n",
    "WARMUP = 10 # 초기화 시 조작하지 않을 스텝 수\n",
    "\n",
    "# Parameter for search\n",
    "E_INITIAL = 1.0\n",
    "E_STOP = 0.01\n",
    "E_DECAY_RATE = 0.001\n",
    "\n",
    "# Parameter for memory\n",
    "MEMORY_SIZE = 10000\n",
    "BATCH_SIZE = 32"
   ]
  },
  {
   "cell_type": "code",
   "execution_count": null,
   "metadata": {},
   "outputs": [],
   "source": [
    "class QNetwork(nn.Module):\n",
    "    def __init__(self, state_size, action_size):\n",
    "        model_blk = []\n",
    "        in_channel = state_size\n",
    "        for _ in range(3):\n",
    "            model_blk.append(\n",
    "                nn.Linear(in_channel, 16)\n",
    "            )\n",
    "\n",
    "            model_blk.append(\n",
    "                nn.ReLU()\n",
    "            )\n",
    "\n",
    "        for _ in range(4):\n",
    "            self.model = nn.Sequential([\n",
    "                nn.Linear(in_channel, 16)\n",
    "            ])\n",
    "        self.model = nn.Sequential([\n",
    "            nn.Linear(state_size, 16),\n",
    "            nn.ReLU()\n",
    "        ])"
   ]
  }
 ],
 "metadata": {
  "kernelspec": {
   "display_name": "Python 3 (ipykernel)",
   "language": "python",
   "name": "python3"
  },
  "language_info": {
   "codemirror_mode": {
    "name": "ipython",
    "version": 3
   },
   "file_extension": ".py",
   "mimetype": "text/x-python",
   "name": "python",
   "nbconvert_exporter": "python",
   "pygments_lexer": "ipython3",
   "version": "3.11.3"
  },
  "orig_nbformat": 4
 },
 "nbformat": 4,
 "nbformat_minor": 2
}
